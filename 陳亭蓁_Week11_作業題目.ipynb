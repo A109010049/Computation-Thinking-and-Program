{
  "nbformat": 4,
  "nbformat_minor": 0,
  "metadata": {
    "kernelspec": {
      "display_name": "Python 3",
      "language": "python",
      "name": "python3"
    },
    "language_info": {
      "codemirror_mode": {
        "name": "ipython",
        "version": 3
      },
      "file_extension": ".py",
      "mimetype": "text/x-python",
      "name": "python",
      "nbconvert_exporter": "python",
      "pygments_lexer": "ipython3",
      "version": "3.8.5"
    },
    "colab": {
      "name": "陳亭蓁 - Week11 -作業題目.ipynb",
      "provenance": [],
      "collapsed_sections": [],
      "include_colab_link": true
    }
  },
  "cells": [
    {
      "cell_type": "markdown",
      "metadata": {
        "id": "view-in-github",
        "colab_type": "text"
      },
      "source": [
        "<a href=\"https://colab.research.google.com/github/A109010049/Computation-Thinking-and-Program/blob/main/%E9%99%B3%E4%BA%AD%E8%93%81_Week11_%E4%BD%9C%E6%A5%AD%E9%A1%8C%E7%9B%AE.ipynb\" target=\"_parent\"><img src=\"https://colab.research.google.com/assets/colab-badge.svg\" alt=\"Open In Colab\"/></a>"
      ]
    },
    {
      "cell_type": "markdown",
      "metadata": {
        "id": "ErB6rZEvuXh7"
      },
      "source": [
        "**隨堂練習 1：請輸入身分證字號，並判斷尾數是否為奇數?** "
      ]
    },
    {
      "cell_type": "code",
      "metadata": {
        "id": "NgXPqQePuXiG"
      },
      "source": [
        ""
      ],
      "execution_count": null,
      "outputs": []
    },
    {
      "cell_type": "markdown",
      "metadata": {
        "id": "d3GIAms_uXiI"
      },
      "source": [
        "**回家作業**\n",
        "\n",
        "組長: 蕭咸蓁\n",
        "    \n",
        "組員:陳亭蓁、張宇彤\n",
        "    \n",
        "期末報告題目: 點餐機器人\n",
        "\n",
        "\n",
        "百字腳本初稿:走進一間西餐廳，發現裡面的一切都是全自動化，點餐的部分有一個專門的機器人來幫忙進行點餐，一開始機器人會先詢問顧客的姓名及是否有對什麼食物過敏，接著詢問顧客前菜、湯品、主餐、飲料及甜點分別要什麼，並且中間會穿插機器人的推薦，最後並祝顧客用餐愉快，有個美好的一天。\n",
        "\n",
        "\n",
        "\n",
        "(Note: **用電腦解決問題，你要解決的問題就是你的題目；解決問題的方法是什麼，請設計用對話方式讓我們知道答案。**\n",
        "\n",
        "在日常生活中，所有與客服有關的事情，都可以自動化改用對話機器人處理。例如:你去銀行櫃台詢問存錢事宜，你去系辦詢問選課事宜，你去餐廳詢問點餐事宜等等。這些例子都是針對一個問題，透過你和客服互動對話後解決。將與這些真人的客服對話自動化後，就變成對話機器人。對話機器人是目前全世界最熱門的商業互動模式，也是未來世界的趨勢。)\n"
      ]
    },
    {
      "cell_type": "code",
      "metadata": {
        "id": "Mv0eP-Asvo7e"
      },
      "source": [
        ""
      ],
      "execution_count": null,
      "outputs": []
    }
  ]
}