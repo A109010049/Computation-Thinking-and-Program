{
  "nbformat": 4,
  "nbformat_minor": 0,
  "metadata": {
    "kernelspec": {
      "display_name": "Python 3",
      "language": "python",
      "name": "python3"
    },
    "language_info": {
      "codemirror_mode": {
        "name": "ipython",
        "version": 3
      },
      "file_extension": ".py",
      "mimetype": "text/x-python",
      "name": "python",
      "nbconvert_exporter": "python",
      "pygments_lexer": "ipython3",
      "version": "3.8.5"
    },
    "colab": {
      "name": "陳亭蓁-Week11-作業.ipynb",
      "provenance": [],
      "include_colab_link": true
    }
  },
  "cells": [
    {
      "cell_type": "markdown",
      "metadata": {
        "id": "view-in-github",
        "colab_type": "text"
      },
      "source": [
        "<a href=\"https://colab.research.google.com/github/A109010049/Computation-Thinking-and-Program/blob/main/%E9%99%B3%E4%BA%AD%E8%93%81_Week11_%E4%BD%9C%E6%A5%AD.ipynb\" target=\"_parent\"><img src=\"https://colab.research.google.com/assets/colab-badge.svg\" alt=\"Open In Colab\"/></a>"
      ]
    },
    {
      "cell_type": "markdown",
      "metadata": {
        "id": "DyhUweAxxHkV"
      },
      "source": [
        "# 基本程式設計(應用篇)"
      ]
    },
    {
      "cell_type": "markdown",
      "metadata": {
        "id": "OllFmBctxHkc"
      },
      "source": [
        "### 4-2 運算思維四個基石"
      ]
    },
    {
      "cell_type": "markdown",
      "metadata": {
        "id": "1abLGIyjxHkd"
      },
      "source": [
        "#### 4-2-4  問題拆解 - 打造你的聊天機器人"
      ]
    },
    {
      "cell_type": "markdown",
      "metadata": {
        "id": "Vt3Ihry5xHke"
      },
      "source": [
        "「哈囉，大家好。我叫Zyxo64，是一個聊天機器人。\n",
        "\n",
        "在嗜好與興趣方面，我很喜歡美食，也喜歡養動物。\n",
        "\n",
        "很高興有機會來到世新大學，請大家多多指教。\n",
        "\n",
        "嗨！妳好，請問大名？：Francis。\n",
        "\n",
        "Francis，很高興認識你。"
      ]
    },
    {
      "cell_type": "code",
      "metadata": {
        "colab": {
          "base_uri": "https://localhost:8080/"
        },
        "id": "r5qgTBx-xHke",
        "outputId": "e5c66678-61e1-49de-d6b8-fddf28e422f2"
      },
      "source": [
        "# 1.聊天機器人自我介紹\n",
        "print(\"哈囉，大家好。我叫Zyxo64，是一個聊天機器人。\")\n",
        "print(f\"在嗜好與興趣方面，我很喜歡美食，也喜歡養動物。\")\n",
        "\n",
        "hello=\"很高興有機會來到世新大學，請大家多多指教。\"\n",
        "print(hello)\n",
        "\n",
        "\n",
        "# 2. 打招呼，取得對方名字\n",
        "print(\"嗨，你好\")\n",
        "name=input(\"請問大名\")\n",
        "print(f\"{name}，很高興認識你\")\n",
        "\n"
      ],
      "execution_count": 3,
      "outputs": [
        {
          "output_type": "stream",
          "text": [
            "哈囉，大家好。我叫Zyxo64，是一個聊天機器人。\n",
            "在嗜好與興趣方面，我很喜歡美食，也喜歡養動物。\n",
            "很高興有機會來到世新大學，請大家多多指教。\n",
            "嗨，你好\n",
            "請問大名Jenny\n",
            "Jenny，很高興認識你\n"
          ],
          "name": "stdout"
        }
      ]
    },
    {
      "cell_type": "markdown",
      "metadata": {
        "id": "QcpkjPVuxHkf"
      },
      "source": [
        "抱歉，請問一下今年是西元2021年，那是民國幾年呢？：*110*。\n",
        "\n",
        "對！沒錯，謝謝妳！\n",
        "\n",
        "**Francis**，猜猜看我今年幾歲？ ：**18**。\n",
        "\n",
        "哇！你好聰明，我今年的確*18*。\n",
        "\n",
        "再82年我就100歲了。\n",
        "\n",
        "那時候是西元 2103年，也就是民國192年囉！"
      ]
    },
    {
      "cell_type": "code",
      "metadata": {
        "colab": {
          "base_uri": "https://localhost:8080/"
        },
        "id": "Q7GodrVfxHkf",
        "outputId": "de879402-91b4-4cdd-ca79-a1d916894e52"
      },
      "source": [
        "# 3. 數學運算\n",
        "## 3-1 從使用者取得今年年份\n",
        "year=input(\"請問今年是西元2021年，那是民國幾年呢?\")\n",
        "print(\"對!沒錯，謝謝妳！\")\n",
        "\n",
        "## 3-2 請使用者猜年齡\n",
        "age=input(\"猜猜看我今年幾歲\")\n",
        "print(f\"哇!你好聰明，我今年的確18。\")\n",
        "year=int(year)\n",
        "age=int(age)\n",
        "print(f\"再{100-age}年我就100歲了。\")\n",
        "time=year+1911+(100-age)\n",
        "print(f\"那時候是西元{time}年，也就是民國{time-1911}年囉！\")\n",
        "\n",
        "\n",
        "## 3-3 計算聊天機器人滿100歲的年份\n",
        "\n"
      ],
      "execution_count": 5,
      "outputs": [
        {
          "output_type": "stream",
          "text": [
            "請問今年是西元2021年，那是民國幾年呢?110\n",
            "對!沒錯，謝謝妳！\n",
            "猜猜看我今年幾歲18\n",
            "哇!你好聰明，我今年的確18。\n",
            "再82年我就100歲了。\n",
            "那時候是西元2103年，也就是民國192年囉！\n"
          ],
          "name": "stdout"
        }
      ]
    },
    {
      "cell_type": "markdown",
      "metadata": {
        "id": "MN5MMB3QxHkg"
      },
      "source": [
        "我喜歡吃巧克力，也喜歡嘗試各種新食物。\n",
        "\n",
        "你呢？你最喜歡的食物是什麼？**:披薩**。\n",
        "\n",
        "我也喜歡 *披薩*。\n",
        "\n",
        "你多久吃一次 *披薩*？**：每天**。\n",
        "\n",
        "真有趣。不知道這樣對健康好不好。"
      ]
    },
    {
      "cell_type": "code",
      "metadata": {
        "colab": {
          "base_uri": "https://localhost:8080/"
        },
        "id": "N5R0cZ9-xHkg",
        "outputId": "c992ee5b-1f37-4657-cba7-76b4ef688657"
      },
      "source": [
        "# 4 興趣\n",
        "## 4-1 食物話題\n",
        "print(\"我喜歡吃巧克力，也喜歡嘗試各種新食物\")\n",
        "food=input(\"你呢？你最喜歡的食物是什麼？\")\n",
        "print(f\"我也喜歡{food}。\")\n",
        "howoften=input(\"你多久吃一次\"+food+\"?\")\n",
        "print(\"真有趣。不知道這樣對健康好不好。\")"
      ],
      "execution_count": 6,
      "outputs": [
        {
          "output_type": "stream",
          "text": [
            "我喜歡吃巧克力，也喜歡嘗試各種新食物\n",
            "你呢？你最喜歡的食物是什麼？棉花糖\n",
            "我也喜歡棉花糖。\n",
            "你多久吃一次棉花糖?2天\n",
            "真有趣。不知道這樣對健康好不好。\n"
          ],
          "name": "stdout"
        }
      ]
    },
    {
      "cell_type": "markdown",
      "metadata": {
        "id": "S-eAnZ4TxHkg"
      },
      "source": [
        "我最喜歡的動物是長頸鹿。你呢？ **：烏龜**。\n",
        "\n",
        "我不喜歡*烏龜*！\n",
        "\n",
        "不知道 *烏龜* 喜不喜歡吃 *披薩*？"
      ]
    },
    {
      "cell_type": "code",
      "metadata": {
        "colab": {
          "base_uri": "https://localhost:8080/"
        },
        "id": "iZrcRFpQxHkh",
        "outputId": "f2aa1da1-9dc5-4e01-e654-c29328cf965e"
      },
      "source": [
        "# 4 興趣\n",
        "## 4-2 動物話題\n",
        "animal=input(\"我最喜歡的動物是長頸鹿。你呢？\")\n",
        "print(f\"我不喜歡{animal}!\")\n",
        "print(f\"不知道{animal}喜不喜吃{food}\")\n"
      ],
      "execution_count": 8,
      "outputs": [
        {
          "output_type": "stream",
          "text": [
            "我最喜歡的動物是長頸鹿。你呢？cat\n",
            "我不喜歡cat!\n",
            "不知道cat喜不喜吃棉花糖\n"
          ],
          "name": "stdout"
        }
      ]
    },
    {
      "cell_type": "markdown",
      "metadata": {
        "id": "g3f3n6x9xHkh"
      },
      "source": [
        "你今天的心情如何？ **：很開心**。\n",
        "\n",
        "可以告訴我你 *開心* 的原因嗎？**因為週末了！** \n",
        "\n",
        "祝你週末愉快！\n",
        "\n",
        "\n",
        "再見 *Francis*！"
      ]
    },
    {
      "cell_type": "code",
      "metadata": {
        "colab": {
          "base_uri": "https://localhost:8080/"
        },
        "id": "Zead0XtIxHkh",
        "outputId": "92ee64c8-4c1d-4f3c-fa59-43b224872d96"
      },
      "source": [
        "# 5. 關於心情的對話\n",
        "mood=input(\"你今天的心情如何？\")\n",
        "print(f\"可以告訴我你{mood}的原因嗎\")\n",
        "reason=input(\"why?\")\n",
        "print(\"祝你週末愉快！\")\n"
      ],
      "execution_count": 9,
      "outputs": [
        {
          "output_type": "stream",
          "text": [
            "你今天的心情如何？bad\n",
            "可以告訴我你bad的原因嗎\n",
            "why?no\n",
            "祝你週末愉快！\n"
          ],
          "name": "stdout"
        }
      ]
    },
    {
      "cell_type": "markdown",
      "metadata": {
        "id": "BFkhaeg7xHki"
      },
      "source": [
        "我喜歡跟你聊天，現在有點累了，改天再聊吧！！\n",
        "\n",
        "再見 *Francis*！"
      ]
    },
    {
      "cell_type": "code",
      "metadata": {
        "colab": {
          "base_uri": "https://localhost:8080/"
        },
        "id": "N7vonbr1xHki",
        "outputId": "20b998f4-ce48-4024-9525-6e34beddc176"
      },
      "source": [
        "# 6. 道別\n",
        "print(\"我喜歡跟你聊天，現在有點累了，改天再聊吧！！\")\n",
        "print(\"再見 Francis！\")"
      ],
      "execution_count": 10,
      "outputs": [
        {
          "output_type": "stream",
          "text": [
            "我喜歡跟你聊天，現在有點累了，改天再聊吧！！\n",
            "再見 Francis！\n"
          ],
          "name": "stdout"
        }
      ]
    },
    {
      "cell_type": "markdown",
      "metadata": {
        "id": "IlilIpPoxHki"
      },
      "source": [
        "## 期末報告"
      ]
    },
    {
      "cell_type": "markdown",
      "metadata": {
        "id": "VDkWKAUixHki"
      },
      "source": [
        "### \n"
      ]
    },
    {
      "cell_type": "markdown",
      "metadata": {
        "id": "oUo1bU5exHkj"
      },
      "source": [
        "### 組員(學號姓名):\n",
        "\n"
      ]
    },
    {
      "cell_type": "markdown",
      "metadata": {
        "id": "v_ba8J8hxHkj"
      },
      "source": [
        "### 題目:"
      ]
    },
    {
      "cell_type": "markdown",
      "metadata": {
        "id": "sfDzV1JoxHkj"
      },
      "source": [
        "### 百字腳本\n",
        "\n"
      ]
    }
  ]
}