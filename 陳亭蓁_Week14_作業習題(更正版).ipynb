{
  "nbformat": 4,
  "nbformat_minor": 0,
  "metadata": {
    "kernelspec": {
      "display_name": "Python 3",
      "language": "python",
      "name": "python3"
    },
    "language_info": {
      "codemirror_mode": {
        "name": "ipython",
        "version": 3
      },
      "file_extension": ".py",
      "mimetype": "text/x-python",
      "name": "python",
      "nbconvert_exporter": "python",
      "pygments_lexer": "ipython3",
      "version": "3.8.5"
    },
    "colab": {
      "name": "陳亭蓁 - Week14 - 作業習題(更正版).ipynb",
      "provenance": [],
      "collapsed_sections": [],
      "include_colab_link": true
    }
  },
  "cells": [
    {
      "cell_type": "markdown",
      "metadata": {
        "id": "view-in-github",
        "colab_type": "text"
      },
      "source": [
        "<a href=\"https://colab.research.google.com/github/A109010049/Computation-Thinking-and-Program/blob/main/%E9%99%B3%E4%BA%AD%E8%93%81_Week14_%E4%BD%9C%E6%A5%AD%E7%BF%92%E9%A1%8C(%E6%9B%B4%E6%AD%A3%E7%89%88).ipynb\" target=\"_parent\"><img src=\"https://colab.research.google.com/assets/colab-badge.svg\" alt=\"Open In Colab\"/></a>"
      ]
    },
    {
      "cell_type": "markdown",
      "metadata": {
        "id": "jRqJIXcD_mov"
      },
      "source": [
        "**隨堂練習1： BMI 計算**\n",
        "\n",
        "請寫一個程式讓使用者輸入身高與體重，顯示BMI 值與肥胖程度。 BMI 等於體重（KG）除以身高（M）的平方，而BMI 與肥胖分類標準如下：\n",
        "\n",
        "若BMI 值小於18，則顯示「體重過輕」，否則若BMI 值小於24，則顯示「體重正常」，若BMI 值小於27，則顯示「體重過重」，否則顯示「體重肥胖」。"
      ]
    },
    {
      "cell_type": "code",
      "metadata": {
        "id": "e47IB0Qn_mox",
        "colab": {
          "base_uri": "https://localhost:8080/"
        },
        "outputId": "5e5b807b-2878-4559-fac0-28789cba0cef"
      },
      "source": [
        "##輸入身高體重資訊，計算BMI。\n",
        "w=float(input(\"請輸入體重（KG）?\")) \n",
        "h=float(input('請輸入身高（Ｍ）?'))\n",
        "bmi=w/(h*h)\n",
        "print(\"BMI為\",bmi)\n",
        "if bmi<18:\n",
        "  print(\"體重過輕\")\n",
        "elif bmi<24:\n",
        "  print(\"體重正常\")\n",
        "elif bmi<27:\n",
        "  print(\"體重過重\")\n",
        "else:\n",
        "  print(\"體重肥胖\")"
      ],
      "execution_count": null,
      "outputs": [
        {
          "output_type": "stream",
          "text": [
            "請輸入體重（KG）?50\n",
            "請輸入身高（Ｍ）?170\n",
            "BMI為 0.0017301038062283738\n",
            "體重過輕\n"
          ],
          "name": "stdout"
        }
      ]
    },
    {
      "cell_type": "markdown",
      "metadata": {
        "id": "C9DaFqLN_moy"
      },
      "source": [
        "**隨堂練習2： 三一律(單向選擇、雙向與巢狀選擇、多向選擇)**\n",
        "\n",
        "請輸入一個數，然後判斷這個數是正數、是負數或者是零。"
      ]
    },
    {
      "cell_type": "code",
      "metadata": {
        "colab": {
          "base_uri": "https://localhost:8080/"
        },
        "id": "hk8BKF3s_moz",
        "outputId": "1d016eb1-4ef7-4272-de61-3671fe47eccf"
      },
      "source": [
        "##單向選擇\n",
        "score=int(input(\"請輸入一個成績?\"))\n",
        "if score>=80:\n",
        "  print(\"非常好\")\n",
        "if 80>score>=60:#前面要有80>才行\n",
        "  print(\"不錯喔\")\n",
        "if score<60:\n",
        "  print(\"要加油\")\n",
        "##多向選擇\n",
        "score=int(input(\"請輸入一個成績?\"))\n",
        "if score>=80:\n",
        "  print(\"非常好\")\n",
        "elif score>=60: #前面不用有80>\n",
        "  print(\"不錯喔\")\n",
        "else:\n",
        "  print(\"要加油\")\n",
        "##巢狀選擇\n",
        "score=int(input(\"請輸入一個成績?\"))\n",
        "if score>=80:\n",
        "  print(\"非常好\")\n",
        "else:\n",
        "  print(\"要加油\")"
      ],
      "execution_count": null,
      "outputs": [
        {
          "output_type": "stream",
          "text": [
            "請輸入一個成績?86\n",
            "非常好\n",
            "請輸入一個成績?86\n",
            "非常好\n",
            "請輸入一個成績?86\n",
            "非常好\n"
          ],
          "name": "stdout"
        }
      ]
    },
    {
      "cell_type": "markdown",
      "metadata": {
        "id": "akXapX4l_moz"
      },
      "source": [
        "**練習5   體溫與發燒**\n",
        "\n",
        "設計程式根據體溫判斷是否發燒，由使用者輸入體溫，程式判斷是否發燒，假設體溫小於36度，顯示「體溫過低」，體溫大於等於36度小於38度，顯示「體溫正常」，否則若體溫大於等於38度小於39度，顯示「體溫有點燒」，否則體溫大於等於39度，顯示「體溫很燒」。\n",
        "\n",
        "輸入體溫「36.5」，輸出為「體溫正常」。\n",
        "\n",
        "～程式執行結果如下。\n",
        "\n",
        "請輸入體溫？36.5\n",
        "\n",
        "體溫正常"
      ]
    },
    {
      "cell_type": "code",
      "metadata": {
        "id": "E4CNBZ35_mo0",
        "colab": {
          "base_uri": "https://localhost:8080/"
        },
        "outputId": "d7a877a7-6aec-4644-a333-94df9a557fab"
      },
      "source": [
        "bt=int(input(\"請輸入一個體溫?\"))\n",
        "if bt<36:\n",
        "  print(\"體溫過低\")\n",
        "elif 36<=bt<38:\n",
        "  print(\"體溫正常\")\n",
        "elif 38<=bt<39:\n",
        "  print(\"體溫有點燒\")\n",
        "else:\n",
        "  print(\"體溫很燒\")"
      ],
      "execution_count": null,
      "outputs": [
        {
          "output_type": "stream",
          "text": [
            "請輸入一個體溫?36\n",
            "體溫正常\n"
          ],
          "name": "stdout"
        }
      ]
    },
    {
      "cell_type": "markdown",
      "metadata": {
        "id": "WlGgKbM3_mo0"
      },
      "source": [
        "**練習6  閏年判斷**\n",
        "\n",
        "設計程式允許輸入西元幾年，請求出該年是否是閏年，閏年表示該年多一天，若為4的倍數稱做閏年，但若為100的倍數就不為閏年，且若為400倍數又是閏年。(四年一潤、百年不潤、四百年再潤)\n",
        "\n",
        "輸入年份「2012」，輸出為「2012是閏年」。\n",
        "\n",
        "～程式執行結果如下。\n",
        "\n",
        "請輸入年份？2012\n",
        "\n",
        "2012 是閏年"
      ]
    },
    {
      "cell_type": "code",
      "metadata": {
        "id": "vrt6Avt8_mo0",
        "colab": {
          "base_uri": "https://localhost:8080/"
        },
        "outputId": "86a39253-8e33-4426-ba60-06c325c735db"
      },
      "source": [
        "##Input\n",
        "year=2012\n",
        "##Process+Output\n",
        "if year%400==0:\n",
        "  print(\"是閏年\")\n",
        "elif year%100==0:\n",
        "  print(\"不是閏年\")\n",
        "elif year%4==0:\n",
        "  print(\"是閏年\")\n",
        "else:\n",
        "  print(\"不是閏年\")"
      ],
      "execution_count": 2,
      "outputs": [
        {
          "output_type": "stream",
          "text": [
            "是閏年\n"
          ],
          "name": "stdout"
        }
      ]
    },
    {
      "cell_type": "markdown",
      "metadata": {
        "id": "c7Di0Lgc_mo1"
      },
      "source": [
        "**練習12：計程車計費**\n",
        "\n",
        "某城市計程車計費3公里以內6元，超過3公里不足10公里、每公里1.8元，超過10公里則超過部分加收50%。此外停車等候每3分鐘收1元，請用Python寫出車費是多少。"
      ]
    },
    {
      "cell_type": "code",
      "metadata": {
        "id": "Tr9rJoiC_mo1",
        "colab": {
          "base_uri": "https://localhost:8080/"
        },
        "outputId": "bedae11a-e283-41aa-c077-500f64ce8774"
      },
      "source": [
        "##Input\n",
        "Time=5\n",
        "Distance=12\n",
        "\n",
        "##Process\n",
        "##Time \n",
        "Money1=Time/3*1\n",
        "\n",
        "##Distance\n",
        "if Distance<3:\n",
        "   Money2=6\n",
        "elif Distance<10:\n",
        "   Money2=6+(Distance-3)*1.8\n",
        "else:\n",
        "   Money2=6+(7*1.8)+(Distance-10)*1.8*1.5\n",
        "##\n",
        "Total=Money1+Money2\n",
        "print(Total)"
      ],
      "execution_count": 3,
      "outputs": [
        {
          "output_type": "stream",
          "text": [
            "25.666666666666668\n"
          ],
          "name": "stdout"
        }
      ]
    },
    {
      "cell_type": "code",
      "metadata": {
        "id": "6kJs7cs2_mo1"
      },
      "source": [
        ""
      ],
      "execution_count": null,
      "outputs": []
    }
  ]
}