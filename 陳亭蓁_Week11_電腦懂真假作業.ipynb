{
  "nbformat": 4,
  "nbformat_minor": 0,
  "metadata": {
    "kernelspec": {
      "display_name": "Python 3",
      "language": "python",
      "name": "python3"
    },
    "language_info": {
      "codemirror_mode": {
        "name": "ipython",
        "version": 3
      },
      "file_extension": ".py",
      "mimetype": "text/x-python",
      "name": "python",
      "nbconvert_exporter": "python",
      "pygments_lexer": "ipython3",
      "version": "3.8.5"
    },
    "colab": {
      "name": "陳亭蓁 - Week11 - 電腦懂真假作業.ipynb",
      "provenance": [],
      "include_colab_link": true
    }
  },
  "cells": [
    {
      "cell_type": "markdown",
      "metadata": {
        "id": "view-in-github",
        "colab_type": "text"
      },
      "source": [
        "<a href=\"https://colab.research.google.com/github/A109010049/Computation-Thinking-and-Program/blob/main/%E9%99%B3%E4%BA%AD%E8%93%81_Week11_%E9%9B%BB%E8%85%A6%E6%87%82%E7%9C%9F%E5%81%87%E4%BD%9C%E6%A5%AD.ipynb\" target=\"_parent\"><img src=\"https://colab.research.google.com/assets/colab-badge.svg\" alt=\"Open In Colab\"/></a>"
      ]
    },
    {
      "cell_type": "markdown",
      "metadata": {
        "id": "-Y50WyTAwZ_S"
      },
      "source": [
        "## 1. 布林值\n",
        "\n",
        "### 1-1 真值與假值"
      ]
    },
    {
      "cell_type": "code",
      "metadata": {
        "id": "0C_Edx2IwZ_b"
      },
      "source": [
        "In [1]: ## 布林只有 True 與 False 這兩個值。\n",
        "   ...: True\n",
        "   ...: False\n",
        "    \n",
        "In [2]: ## 請注意大小寫不同\n",
        "   ...: true\n",
        "   ...: false\n",
        "   ...: TRUE\n",
        "   ...: FALSE\n",
        "Traceback (most recent call last):\n",
        "\n",
        "  File \"<ipython-input-2-7729cf8819e0>\", line 6, in <module>\n",
        "    true\n",
        "\n",
        "NameError: name 'true' is not defined\n",
        "\n",
        "In [3]: ## 查看資料的種類\n",
        "   ...: type(True)\n",
        "   ...: type(False)\n",
        "bool\n",
        "bool"
      ],
      "execution_count": null,
      "outputs": []
    },
    {
      "cell_type": "code",
      "metadata": {
        "colab": {
          "base_uri": "https://localhost:8080/"
        },
        "id": "tjHtrKhZwZ_d",
        "outputId": "37aa3072-c737-4aa7-e969-053482451c25"
      },
      "source": [
        "True\n",
        "False"
      ],
      "execution_count": 1,
      "outputs": [
        {
          "output_type": "execute_result",
          "data": {
            "text/plain": [
              "False"
            ]
          },
          "metadata": {
            "tags": []
          },
          "execution_count": 1
        }
      ]
    },
    {
      "cell_type": "markdown",
      "metadata": {
        "id": "37gvcoMswZ_d"
      },
      "source": [
        "### 1-2 建立布林值與數學運算\n",
        "\n",
        "#### 建立布林值"
      ]
    },
    {
      "cell_type": "code",
      "metadata": {
        "id": "hL2QYE88wZ_d"
      },
      "source": [
        "In [1]: ## 方法（一）：直接鍵入True或False\n",
        "   ...: True\n",
        "   ...: False\n",
        "True\n",
        "False\n",
        "\n",
        "In [2]: ## 方法（二）：用bool()函式建立。\n",
        "   ...: bool(1)\n",
        "   ...: bool(0)\n",
        "True\n",
        "False"
      ],
      "execution_count": null,
      "outputs": []
    },
    {
      "cell_type": "code",
      "metadata": {
        "colab": {
          "base_uri": "https://localhost:8080/"
        },
        "id": "WDwSeOVPwZ_e",
        "outputId": "05f18778-4ad3-47c9-859a-83c9ec6bb726"
      },
      "source": [
        "bool(1)\n",
        "bool(0)"
      ],
      "execution_count": 2,
      "outputs": [
        {
          "output_type": "execute_result",
          "data": {
            "text/plain": [
              "False"
            ]
          },
          "metadata": {
            "tags": []
          },
          "execution_count": 2
        }
      ]
    },
    {
      "cell_type": "markdown",
      "metadata": {
        "id": "kLy5suY6wZ_e"
      },
      "source": [
        "### 1-2 建立布林值與數學運算\n",
        "\n",
        "#### 布林值可視為數值資料做數學運算"
      ]
    },
    {
      "cell_type": "code",
      "metadata": {
        "id": "2e-UO9F5wZ_f"
      },
      "source": [
        "In [2]: ## True 跟數值 1 相等； False 跟數值 0 相等。\n",
        "   ...: False == 0\n",
        "   ...: True == 1\n",
        "True\n",
        "True\n",
        "\n",
        "In [3]: ## 數值運算中可以納入了布林。\n",
        "   ...: False + 3 # False為0\n",
        "   ...: True + 3 # True為1\n",
        "3\n",
        "4"
      ],
      "execution_count": null,
      "outputs": []
    },
    {
      "cell_type": "code",
      "metadata": {
        "colab": {
          "base_uri": "https://localhost:8080/"
        },
        "id": "AnTwgj8PwZ_f",
        "outputId": "f70934de-e414-422e-d58a-4eb750072e28"
      },
      "source": [
        "True*10\n",
        "False*10"
      ],
      "execution_count": 3,
      "outputs": [
        {
          "output_type": "execute_result",
          "data": {
            "text/plain": [
              "0"
            ]
          },
          "metadata": {
            "tags": []
          },
          "execution_count": 3
        }
      ]
    },
    {
      "cell_type": "markdown",
      "metadata": {
        "id": "kDvMuIu3wZ_f"
      },
      "source": [
        "## 2. 關係條件比較\n",
        "\n",
        "### 2-1 布林條件判斷式"
      ]
    },
    {
      "cell_type": "code",
      "metadata": {
        "id": "e55OwC5FwZ_g"
      },
      "source": [
        "In [1]: player_score = 0 # 這會把0放入變數Player_score\n",
        "   ...: player_score == 0 # 這會檢查player_Scor裡的值是否為0\n",
        "Out[1]: True\n",
        "    \n",
        "In [2]: name = \"Zoe\" # 將變數name設為值Zoe\n",
        "   ...: name == \"zoe\"\n",
        "Out[2]: False   "
      ],
      "execution_count": null,
      "outputs": []
    },
    {
      "cell_type": "code",
      "metadata": {
        "id": "XiwMzKrxwZ_g"
      },
      "source": [
        ""
      ],
      "execution_count": null,
      "outputs": []
    },
    {
      "cell_type": "markdown",
      "metadata": {
        "id": "1smeZK2ZwZ_g"
      },
      "source": [
        "### 2-2 關係運算子\n",
        "\n",
        "常見的關係運算子共有六個==、!=、>、>=、<、<=。"
      ]
    },
    {
      "cell_type": "code",
      "metadata": {
        "id": "bMuXOiCpwZ_h"
      },
      "source": [
        "In [1]: ## 布林（一）：比較關係運算子 = 比較運算子 = 關係運算子\n",
        "   ...: ## 比較運算子用於比較兩數的大於、小於和等於關係。\n",
        "   ...: \n",
        "   ...: print(8 == 7) # 判斷 8 是否等於 7，請注意不要混淆＝和==。\n",
        "   ...: print(8 != 7) # 判斷 8 是否不等於 7\n",
        "   ...: print(8 > 7) # 判斷 8 是否大於 7\n",
        "   ...: print(8 >= 7) # 判斷 8 是否大於等於 7\n",
        "   ...: print(8 < 7) # 判斷 8 是否小於 7\n",
        "   ...: print(8 <= 7) # 判斷 8 是否小於等於 7\n",
        "False\n",
        "True\n",
        "True\n",
        "True\n",
        "False\n",
        "False"
      ],
      "execution_count": null,
      "outputs": []
    },
    {
      "cell_type": "code",
      "metadata": {
        "colab": {
          "base_uri": "https://localhost:8080/"
        },
        "id": "aJN2wfznwZ_h",
        "outputId": "461227e9-5f8f-4657-f4cc-0ed628ae1601"
      },
      "source": [
        "15>10\n"
      ],
      "execution_count": 4,
      "outputs": [
        {
          "output_type": "execute_result",
          "data": {
            "text/plain": [
              "True"
            ]
          },
          "metadata": {
            "tags": []
          },
          "execution_count": 4
        }
      ]
    },
    {
      "cell_type": "code",
      "metadata": {
        "id": "_eLvtSzmwZ_h"
      },
      "source": [
        "In [8]: ## 資料篩選\n",
        "   ...: ## 電腦評分是否高於8分\n",
        "   ...: \n",
        "   ...: movie_rating = 8.8\n",
        "   ...: print(movie_rating > 8.0)\n",
        "   ...: print(type(movie_rating > 8.0))\n",
        "True\n",
        "<class 'bool'>"
      ],
      "execution_count": null,
      "outputs": []
    },
    {
      "cell_type": "code",
      "metadata": {
        "id": "2v3LmCFmwZ_h"
      },
      "source": [
        ""
      ],
      "execution_count": null,
      "outputs": []
    },
    {
      "cell_type": "markdown",
      "metadata": {
        "id": "ZLrhUcYYwZ_i"
      },
      "source": [
        "**隨堂練習 1：請輸入身分證字號，並判斷尾數是否為奇數?** "
      ]
    },
    {
      "cell_type": "code",
      "metadata": {
        "colab": {
          "base_uri": "https://localhost:8080/"
        },
        "id": "pt-Y13pEwZ_i",
        "outputId": "4bd6c83a-6efc-4712-cd7e-2846969abf6a"
      },
      "source": [
        "##Input Data\n",
        "\n",
        "number=int(input(\"Enter the last digit of your ID:\"))\n",
        "\n",
        "##Process\n",
        "\n",
        "ans=(number%2)==1\n",
        "\n",
        "\n",
        "##Output\n",
        "\n",
        "print(\"My id is odd: \",ans)"
      ],
      "execution_count": 9,
      "outputs": [
        {
          "output_type": "stream",
          "text": [
            "Enter the last digit of your ID:5\n",
            "My id is odd:  True\n"
          ],
          "name": "stdout"
        }
      ]
    },
    {
      "cell_type": "markdown",
      "metadata": {
        "id": "X6ONm7GlwZ_i"
      },
      "source": [
        "## 3. 邏輯的運算\n",
        "\n",
        "### 3-2 邏輯運算子\n",
        "\n",
        "**邏輯運算子有三種運算子，and（而且）、or（或）、not（相反）。**"
      ]
    },
    {
      "cell_type": "code",
      "metadata": {
        "id": "OyK9qEM7wZ_i"
      },
      "source": [
        "## 三種邏輯運算子（一）:且(and)\n",
        "In [1]: print(True and False) # 判斷 True 與 False 的交集\n",
        "   ...: print(True and True)\n",
        "   ...: print(False and False)\n",
        "   ...: print(False and True)\n",
        "   ...: \n",
        "False\n",
        "True\n",
        "False\n",
        "False"
      ],
      "execution_count": null,
      "outputs": []
    },
    {
      "cell_type": "code",
      "metadata": {
        "colab": {
          "base_uri": "https://localhost:8080/"
        },
        "id": "FaqMvx-6wZ_j",
        "outputId": "8201a056-d9d7-4057-815a-cb6f205d0df9"
      },
      "source": [
        "True and False\n",
        "True and True"
      ],
      "execution_count": 10,
      "outputs": [
        {
          "output_type": "execute_result",
          "data": {
            "text/plain": [
              "True"
            ]
          },
          "metadata": {
            "tags": []
          },
          "execution_count": 10
        }
      ]
    },
    {
      "cell_type": "code",
      "metadata": {
        "id": "kRSbS4qawZ_j"
      },
      "source": [
        "## 三種邏輯運算子（二）:或(or)\n",
        "In [2]: print(True or False) # 判斷 True 與 False 的聯集\n",
        "   ...: print(True or True)\n",
        "   ...: print(False or False)\n",
        "   ...: print(False or True)\n",
        "True\n",
        "True\n",
        "False\n",
        "True"
      ],
      "execution_count": null,
      "outputs": []
    },
    {
      "cell_type": "code",
      "metadata": {
        "colab": {
          "base_uri": "https://localhost:8080/"
        },
        "id": "mmqHszInwZ_j",
        "outputId": "4e20ae4d-4ad1-4949-c234-2be32413f0ee"
      },
      "source": [
        "True or False\n",
        "True or True\n",
        "False or False\n",
        "False or True"
      ],
      "execution_count": 11,
      "outputs": [
        {
          "output_type": "execute_result",
          "data": {
            "text/plain": [
              "True"
            ]
          },
          "metadata": {
            "tags": []
          },
          "execution_count": 11
        }
      ]
    },
    {
      "cell_type": "code",
      "metadata": {
        "id": "N93OYWF3wZ_j"
      },
      "source": [
        "## 三種邏輯運算子（三）:非(not)。\n",
        "In [3]: print(not True) # False\n",
        "   ...: print(not False) # True\n",
        "   ...: print(not(8 > 7)) # 反轉 8 是否大於 7 的判斷\n",
        "False\n",
        "True\n",
        "False"
      ],
      "execution_count": null,
      "outputs": []
    },
    {
      "cell_type": "code",
      "metadata": {
        "id": "4NpB7TjGwZ_k"
      },
      "source": [
        ""
      ],
      "execution_count": null,
      "outputs": []
    },
    {
      "cell_type": "code",
      "metadata": {
        "id": "9mQB2xQzwZ_k"
      },
      "source": [
        "In [8]: x = 70\n",
        "\n",
        "In [9]: ((x > 60) and (x < 80))\n",
        "Out[9]: True\n",
        "\n",
        "In [10]: x = 60\n",
        "\n",
        "In [11]: ((x > 60) and (x < 80))\n",
        "Out[11]: False\n",
        "\n",
        "In [12]: ((x > 60) or (x < 80))\n",
        "Out[12]: True\n",
        "\n",
        "In [13]: not(x > 60)\n",
        "Out[13]: True"
      ],
      "execution_count": null,
      "outputs": []
    },
    {
      "cell_type": "code",
      "metadata": {
        "id": "j-ZN4TK8wZ_l"
      },
      "source": [
        ""
      ],
      "execution_count": null,
      "outputs": []
    },
    {
      "cell_type": "markdown",
      "metadata": {
        "id": "YzYqq6cmwZ_l"
      },
      "source": [
        "### 3-3 成員與身份運算子"
      ]
    },
    {
      "cell_type": "code",
      "metadata": {
        "id": "jkrIA4zPwZ_l"
      },
      "source": [
        " In [1]: ## 成員運算子\n",
        "    ...: ## 文字字串\n",
        "    ...: print(\"H\" in \"Hello world\") # 判斷H是否存在於Hello world 之中\n",
        "True\n",
        "\n",
        " In [2]: ## 數字串列\n",
        "    ...: x = 1\n",
        "    ...: y = [1,2,3]\n",
        "    ...: print(x in y)\n",
        "    ...: print(x not in y)\n",
        "True\n",
        "False"
      ],
      "execution_count": null,
      "outputs": []
    },
    {
      "cell_type": "code",
      "metadata": {
        "id": "zoVlvNdfwZ_m"
      },
      "source": [
        ""
      ],
      "execution_count": null,
      "outputs": []
    },
    {
      "cell_type": "code",
      "metadata": {
        "id": "YGG8VbU9wZ_m"
      },
      "source": [
        "In [3]: x = [1,2,3]\n",
        "    ...: y = [1,2,3]\n",
        "    ...: print(id(x),id(y)) #x 與y 的位址不同\n",
        "    ...: print(x is y) #x與y在電腦有不同的記憶空間，所以x是x、y是y。\n",
        "    ...: print(x == y) # x 與y 的值相等，True\n",
        "2303536791616 2303537806912\n",
        "False\n",
        "True"
      ],
      "execution_count": null,
      "outputs": []
    },
    {
      "cell_type": "code",
      "metadata": {
        "id": "zf-o53qJwZ_m"
      },
      "source": [
        ""
      ],
      "execution_count": null,
      "outputs": []
    }
  ]
}