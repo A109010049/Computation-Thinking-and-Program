{
  "nbformat": 4,
  "nbformat_minor": 0,
  "metadata": {
    "colab": {
      "name": "陳亭蓁-Ｗeek15課後練習.ipynb",
      "provenance": [],
      "collapsed_sections": [],
      "authorship_tag": "ABX9TyMth6QhPa1/e/u7DZq4lc9P",
      "include_colab_link": true
    },
    "kernelspec": {
      "name": "python3",
      "display_name": "Python 3"
    },
    "language_info": {
      "name": "python"
    }
  },
  "cells": [
    {
      "cell_type": "markdown",
      "metadata": {
        "id": "view-in-github",
        "colab_type": "text"
      },
      "source": [
        "<a href=\"https://colab.research.google.com/github/A109010049/Computation-Thinking-and-Program/blob/main/%E9%99%B3%E4%BA%AD%E8%93%81_%EF%BC%B7eek15%E8%AA%B2%E5%BE%8C%E4%BD%9C%E6%A5%AD.ipynb\" target=\"_parent\"><img src=\"https://colab.research.google.com/assets/colab-badge.svg\" alt=\"Open In Colab\"/></a>"
      ]
    },
    {
      "cell_type": "markdown",
      "metadata": {
        "id": "CZB_4c9ZC2Ph"
      },
      "source": [
        "**加分題: 棒打老虎雞吃蟲**\n",
        "[棒打老虎雞吃蟲]跟[剪刀石頭布]是類似的遊戲，練習一下你是否也可以寫出類似的小遊戲呢？"
      ]
    },
    {
      "cell_type": "code",
      "metadata": {
        "colab": {
          "base_uri": "https://localhost:8080/",
          "height": 130
        },
        "id": "DSMmBLM-CnDT",
        "outputId": "469a4674-541e-4098-d4da-6696f3e83f7c"
      },
      "source": [
        "my_choice = int(input(\"請出拳 [0] 蟲 [1] 雞 [2] 老虎 [3] 棒子\"))\n",
        "print(\"你出的拳:\", my_choice)\n",
        "import random\n",
        "com_choice = random.randint(0, 3)\n",
        "print(\"電腦出拳為\", com_choice)\n",
        "\n",
        "# 後面勝前面，其他平手\n",
        "if my_choice == (com_choice + 1) % 4:\n",
        "print(\"我贏了\")\n",
        "elif com_choice==(my_choice+1)%4:\n",
        "print(\"電腦贏了\")\n",
        "else:\n",
        "print(\"平手\")"
      ],
      "execution_count": 13,
      "outputs": [
        {
          "output_type": "error",
          "ename": "IndentationError",
          "evalue": "ignored",
          "traceback": [
            "\u001b[0;36m  File \u001b[0;32m\"<ipython-input-13-489aab25fd34>\"\u001b[0;36m, line \u001b[0;32m9\u001b[0m\n\u001b[0;31m    print(\"我贏了\")\u001b[0m\n\u001b[0m        ^\u001b[0m\n\u001b[0;31mIndentationError\u001b[0m\u001b[0;31m:\u001b[0m expected an indented block\n"
          ]
        }
      ]
    },
    {
      "cell_type": "code",
      "metadata": {
        "id": "V9DAupVQc2qu"
      },
      "source": [
        "打了很多遍，依然找不出錯誤，就是打不出來....."
      ],
      "execution_count": null,
      "outputs": []
    }
  ]
}