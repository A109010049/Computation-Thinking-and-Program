{
  "nbformat": 4,
  "nbformat_minor": 0,
  "metadata": {
    "colab": {
      "name": "陳亭蓁-Week4-練習作業.ipynb",
      "provenance": [],
      "authorship_tag": "ABX9TyPv8m0eHKPUvPa7+Iib2KLv",
      "include_colab_link": true
    },
    "kernelspec": {
      "name": "python3",
      "display_name": "Python 3"
    }
  },
  "cells": [
    {
      "cell_type": "markdown",
      "metadata": {
        "id": "view-in-github",
        "colab_type": "text"
      },
      "source": [
        "<a href=\"https://colab.research.google.com/github/A109010049/Computation-Thinking-and-Program/blob/main/%E9%99%B3%E4%BA%AD%E8%93%81_Week4_%E7%B7%B4%E7%BF%92%E4%BD%9C%E6%A5%AD.ipynb\" target=\"_parent\"><img src=\"https://colab.research.google.com/assets/colab-badge.svg\" alt=\"Open In Colab\"/></a>"
      ]
    },
    {
      "cell_type": "markdown",
      "metadata": {
        "id": "Udgu5uv_WZJQ"
      },
      "source": [
        "#隨堂練習"
      ]
    },
    {
      "cell_type": "markdown",
      "metadata": {
        "id": "hk7xTgtFW6Ag"
      },
      "source": [
        "#課後練習\r\n",
        "\r\n",
        "\r\n",
        "\r\n"
      ]
    },
    {
      "cell_type": "markdown",
      "metadata": {
        "id": "OsdTRXXlYUjG"
      },
      "source": [
        "**課後練習則為從一則新聞報導，提出你對新聞系（OO系）學生為什麼要學「運算思維與程式設計」的見解。（告訴我新聞連結，以及你的觀點即可。）**"
      ]
    },
    {
      "cell_type": "markdown",
      "metadata": {
        "id": "m3FW8C7MZCk6"
      },
      "source": [
        "https://www.rti.org.tw/news/view/id/2046263\r\n",
        "\r\n",
        "科技日新月異，身處在E世代的我們，科技已融入我們的生活中，因此具備「運算思維與程式設計」的基礎能力成為我們不可或缺的技能，而身為新聞系的我，更是應該學習這項技能。每天接觸新聞的我們，需要不停地大量接收新訊息，我們需要訓練自己的邏輯思維，學習如何去使用電腦解決問題，思考解決答案的過程是非常重要的，因此我認為這門課程是非常實用且必要的課程。"
      ]
    },
    {
      "cell_type": "code",
      "metadata": {
        "id": "cgS-Bs5JiTOt"
      },
      "source": [
        ""
      ],
      "execution_count": null,
      "outputs": []
    }
  ]
}